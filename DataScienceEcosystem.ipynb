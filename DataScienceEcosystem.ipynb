{
 "cells": [
  {
   "cell_type": "markdown",
   "id": "a1d71205-4cbf-4d9f-bd52-c3a12c87d3ed",
   "metadata": {},
   "source": [
    "# Data Science Tools and Ecosystem"
   ]
  },
  {
   "cell_type": "markdown",
   "id": "96ad283a-ff9d-41da-b840-624586507efa",
   "metadata": {},
   "source": [
    "## Author\n",
    "Ana-Maria Brostic"
   ]
  },
  {
   "cell_type": "markdown",
   "id": "86bef244-1b35-423d-b276-ce60375df585",
   "metadata": {},
   "source": [
    "### In this notebook, Data Science Tools and Ecosystem are summarized."
   ]
  },
  {
   "cell_type": "markdown",
   "id": "730c644d-7eea-450a-b047-837f0385557d",
   "metadata": {},
   "source": [
    "**Objectives:**\n",
    "- List popular languages for Data Science\n",
    "- List commonly used libraries used by Data Scientists\n",
    "- Evaluating arithmetic expressions in Python\n",
    "  "
   ]
  },
  {
   "cell_type": "markdown",
   "id": "a9d793fd-0f75-4dd5-b2b2-468db91e5e1f",
   "metadata": {},
   "source": [
    "#### Some of the popular languages that Data Scientists use are:\n",
    "1. Python\n",
    "2. SQL\n",
    "3. R"
   ]
  },
  {
   "cell_type": "markdown",
   "id": "7faadec3-d51b-47d2-983c-db1f3aa71c18",
   "metadata": {},
   "source": [
    "#### Some of the commonly used libraries used by Data Scientists include:\n",
    "1. Numpy\n",
    "2. Matplotlib\n",
    "3. Pandas\n",
    "4. Seaborn"
   ]
  },
  {
   "cell_type": "markdown",
   "id": "140701ef-13b8-47e6-b77e-20f47352f35f",
   "metadata": {},
   "source": [
    "|Data Science Tools|\n",
    "|------------------|\n",
    "| Jupyter Notebook|\n",
    "| R Studio |\n",
    "| Github |"
   ]
  },
  {
   "cell_type": "markdown",
   "id": "584a8718-abac-4c19-af14-b63200763aa1",
   "metadata": {},
   "source": [
    "### Below are a few examples of evaluating arithmetic expressions in Python"
   ]
  },
  {
   "cell_type": "markdown",
   "id": "cd78a224-983e-4b73-a5bd-5ca86feed4d2",
   "metadata": {},
   "source": [
    "##### This a simple arithmetic"
   ]
  },
  {
   "cell_type": "code",
   "execution_count": 10,
   "id": "b78bbbea-d81d-4e0c-a184-c2a3db8e3969",
   "metadata": {},
   "outputs": [
    {
     "data": {
      "text/plain": [
       "17"
      ]
     },
     "execution_count": 10,
     "metadata": {},
     "output_type": "execute_result"
    }
   ],
   "source": [
    "(3*4)+5"
   ]
  },
  {
   "cell_type": "markdown",
   "id": "85e4ca47-5a87-4d25-854f-ec64bb7acdae",
   "metadata": {},
   "source": [
    "#### This will convert 200 minutes to hours by diving by 60"
   ]
  },
  {
   "cell_type": "code",
   "execution_count": 14,
   "id": "f638c3d4-9c13-4f29-9540-5edd1395c8a2",
   "metadata": {},
   "outputs": [
    {
     "name": "stdout",
     "output_type": "stream",
     "text": [
      "3.3333333333333335\n"
     ]
    }
   ],
   "source": [
    "minutes=200\n",
    "hours=minutes/60\n",
    "print(hours)"
   ]
  },
  {
   "cell_type": "code",
   "execution_count": null,
   "id": "4884327f-b6f4-4947-b53d-188071669c4e",
   "metadata": {},
   "outputs": [],
   "source": []
  }
 ],
 "metadata": {
  "kernelspec": {
   "display_name": "Python [conda env:base] *",
   "language": "python",
   "name": "conda-base-py"
  },
  "language_info": {
   "codemirror_mode": {
    "name": "ipython",
    "version": 3
   },
   "file_extension": ".py",
   "mimetype": "text/x-python",
   "name": "python",
   "nbconvert_exporter": "python",
   "pygments_lexer": "ipython3",
   "version": "3.12.7"
  }
 },
 "nbformat": 4,
 "nbformat_minor": 5
}
